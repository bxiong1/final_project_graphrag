{
 "cells": [
  {
   "cell_type": "code",
   "execution_count": 1,
   "id": "c19681eb-410b-464f-af6e-7bf14dad7af7",
   "metadata": {},
   "outputs": [],
   "source": [
    "import pandas as pd"
   ]
  },
  {
   "cell_type": "code",
   "execution_count": 2,
   "id": "08feac42-60b7-4d85-bf84-e8a3a189aea1",
   "metadata": {},
   "outputs": [],
   "source": [
    "qa_pairs = [\n",
    "    # 1-10\n",
    "    (\"What is the title of the first movie listed in the dataset?\", \"Norm of the North: King Sized Adventure\"),\n",
    "    (\"Who directed the movie 'Norm of the North: King Sized Adventure'?\", \"Richard Finn, Tim Maltby\"),\n",
    "    (\"What is the type of content for 'Transformers Prime'?\", \"TV Show\"),\n",
    "    (\"What is the release year of the movie '#realityhigh'?\", \"2017\"),\n",
    "    (\"Which country produced the TV Show 'Apaches'?\", \"Spain\"),\n",
    "    (\"What is the most recent date a show was added to Netflix?\", \"September 30, 2019\"),\n",
    "    (\"What is the duration of the movie 'Automata'?\", \"110 min\"),\n",
    "    (\"What genre is the movie 'Love' listed under?\", \"Cult Movies, Dramas, Independent Movies\"),\n",
    "    (\"Who are the main cast members of 'Kidnapping Mr. Heineken'?\", \"Jim Sturgess, Sam Worthington, Ryan Kwanten, Anthony Hopkins\"),\n",
    "    (\"What is the description of the movie 'Good People'?\", \"A struggling couple can't believe their luck when they find a stash of money in the apartment of a neighbor who was recently murdered.\"),\n",
    "\n",
    "    # 11-20\n",
    "    (\"What is the rating of the movie 'Krish Trish and Baltiboy: Best Friends Forever'?\", \"TV-Y\"),\n",
    "    (\"Which country produced the most content in the dataset?\", \"United States\"),\n",
    "    (\"What is the title of the first stand-up comedy movie listed?\", \"Jandino: Whatever it Takes\"),\n",
    "    (\"What is the earliest release year of any content in the dataset?\", \"1925\"),\n",
    "    (\"Who directed the movie 'Cézanne et moi'?\", \"Daniele Thompson\"),\n",
    "    (\"What is the duration of the show 'Transformers: Robots in Disguise'?\", \"1 Season\"),\n",
    "    (\"Which movie has a cast that includes Antonio Banderas?\", \"Automata\"),\n",
    "    (\"What is the title of the movie with the description 'T'Challa, the superpowered new leader of the hidden, highly advanced African nation of Wakanda, strives to protect his home from enemies old and new.'?\", \"Black Panther\"),\n",
    "    (\"What genre is 'Amanda Knox' listed under?\", \"Documentaries\"),\n",
    "    (\"Which TV show has a primary cast of 'Tony Hale, Rosamund Pike, Jordan Fisher, Chelsea Kane'?\", \"Archibald's Next Big Thing\"),\n",
    "\n",
    "    # 21-30\n",
    "    (\"What is the description of the movie 'Article 15'?\", \"The grim realities of caste discrimination come to light as an entitled but upright city cop ventures into India’s heartland to investigate a murder.\"),\n",
    "    (\"Which show was added on September 30, 2018?\", \"Adam Ruins Everything\"),\n",
    "    (\"Who directed 'The Most Assassinated Woman in the World'?\", \"Franck Ribière\"),\n",
    "    (\"What is the release year of the movie 'PK'?\", \"2014\"),\n",
    "    (\"What is the duration of the movie '6 Years'?\", \"80 min\"),\n",
    "    (\"Which TV show is listed under the genres 'Docuseries, Science & Nature TV'?\", \"Battlefish\"),\n",
    "    (\"What is the title of the movie directed by Gaspar Noé and released in 2015?\", \"Love\"),\n",
    "    (\"What is the rating of the TV show 'Castle of Stars'?\", \"TV-14\"),\n",
    "    (\"What is the duration of the movie 'Bangkok Traffic (Love) Story'?\", \"126 min\"),\n",
    "    (\"Which movie is described as 'With his gift of dream interpretation and his brilliantly colored coat, Joseph inspires jealousy in his brothers in this animated Bible story.'?\", \"Joseph: King of Dreams\"),\n",
    "\n",
    "    # 31-40\n",
    "    (\"What is the release year of 'City of Joy'?\", \"2018\"),\n",
    "    (\"Who directed the movie 'Hell and Back'?\", \"Tom Gianas, Ross R. Shuman\"),\n",
    "    (\"What is the title of the movie with the description 'Barack and Michelle Obama talk with directors Steven Bognar and Julia Reichert about the documentary and the importance of storytelling.'?\", \"American Factory: A Conversation with the Obamas\"),\n",
    "    (\"Which movie was released in 2013 and has a duration of 108 minutes?\", \"The Grandmaster\"),\n",
    "    (\"What is the genre of 'Cultivating the Seas: History and Future of the Full-Cycle Cultured Kindai Tuna'?\", \"Documentaries, International Movies\"),\n",
    "    (\"Which movie has a cast that includes Shannon Purser, Kristine Froseth, RJ Cyler?\", \"Sierra Burgess Is A Loser\"),\n",
    "    (\"What is the duration of the movie 'Manhattan Romance'?\", \"98 min\"),\n",
    "    (\"Which movie has the genre 'Stand-Up Comedy' and was added on September 5, 2017?\", \"Marc Maron: Too Real\"),\n",
    "    (\"What is the description of the movie 'Amanda Knox'?\", \"She was twice convicted and acquitted of murder. Amanda Knox and the people closest to her case speak out in this illuminating documentary.\"),\n",
    "    (\"Which movie has a cast that includes 'Ron Perlman, Rupert Grint, Robert Sheehan'?\", \"Moonwalkers\"),\n",
    "\n",
    "    # 41-50\n",
    "    (\"What is the release year of 'Shutter'?\", \"2004\"),\n",
    "    (\"What is the duration of the movie 'The Mayor'?\", \"130 min\"),\n",
    "    (\"Which country produced 'The Royal House of Windsor'?\", \"United Kingdom\"),\n",
    "    (\"What is the duration of the movie 'Laddaland'?\", \"112 min\"),\n",
    "    (\"What is the genre of the movie 'Norm of the North: King Sized Adventure'?\", \"Children & Family Movies, Comedies\"),\n",
    "    (\"Which movie has a description that involves 'social media celebrity'?\", \"#realityhigh\"),\n",
    "    (\"What is the title of the movie with a runtime of 94 minutes and was added on September 9, 2016?\", \"Jandino: Whatever it Takes\"),\n",
    "    (\"What is the description of the movie 'Joaquín Reyes: Una y no más'?\", \"Comedian and celebrity impersonator Joaquín Reyes decides to be his zesty self for a night of stories about buses, bathroom habits, royalty and more.\"),\n",
    "    (\"Which TV show was released in 2017 and is categorized under 'Docuseries, Science & Nature TV'?\", \"Fire Chasers\"),\n",
    "    (\"What is the genre of the movie 'Fabrizio Copano: Solo pienso en mi'?\", \"Stand-Up Comedy\")\n",
    "]"
   ]
  },
  {
   "cell_type": "code",
   "execution_count": 4,
   "id": "e6e56489-cf47-4eed-9c37-45fe4c3eb98d",
   "metadata": {},
   "outputs": [
    {
     "name": "stdout",
     "output_type": "stream",
     "text": [
      "CSV file 'qa_pairs.csv' has been created.\n"
     ]
    }
   ],
   "source": [
    "import csv\n",
    "with open(\"qa_netflix_pairs.csv\", mode=\"w\", newline=\"\", encoding=\"utf-8\") as file:\n",
    "    writer = csv.writer(file)\n",
    "    # Write the header\n",
    "    writer.writerow([\"Question\", \"Answer\"])\n",
    "    # Write the data\n",
    "    writer.writerows(qa_pairs)\n",
    "\n",
    "print(\"CSV file 'qa_pairs.csv' has been created.\")"
   ]
  },
  {
   "cell_type": "code",
   "execution_count": null,
   "id": "05195013-813d-44a2-b865-eaff1cca95c7",
   "metadata": {},
   "outputs": [],
   "source": []
  }
 ],
 "metadata": {
  "kernelspec": {
   "display_name": "Python 3 (ipykernel)",
   "language": "python",
   "name": "python3"
  },
  "language_info": {
   "codemirror_mode": {
    "name": "ipython",
    "version": 3
   },
   "file_extension": ".py",
   "mimetype": "text/x-python",
   "name": "python",
   "nbconvert_exporter": "python",
   "pygments_lexer": "ipython3",
   "version": "3.10.12"
  }
 },
 "nbformat": 4,
 "nbformat_minor": 5
}
